{
 "cells": [
  {
   "cell_type": "code",
   "execution_count": null,
   "metadata": {
    "colab": {},
    "colab_type": "code",
    "id": "0loJfCOdF0RQ"
   },
   "outputs": [],
   "source": [
    "config = {\n",
    "    \"dataset_path\"       : \"\",\n",
    "    \"training_data_dir\" : \"training_data\",\n",
    "    \"logs_dir\":\"\",\n",
    "    \"data_dir\" : \"\",\n",
    "    \n",
    "    \"train_size\" : 0.1,\n",
    "    \"train_times\": 1,\n",
    "    \"valid_size\": 0.2,\n",
    "    \"valid_times\" : 1,\n",
    "    \n",
    "    \"batch_size\" : 32,\n",
    "    \"epochs\" : 10,\n",
    "    \"learning_rate\" : 1e-3,\n",
    "    \n",
    "    \"pitch_scale\" : 1.5,\n",
    "    \"no_pitch_scale\" : 0.75,\n",
    "    \n",
    "    \"optimizer\" : \"adam\",\n",
    "    \"loss\" : \"custom\",\n",
    "    \"layca\" : False,\n",
    "    \n",
    "    \"shuffle\" : True,\n",
    "    \"debug\" : True,\n",
    "    \"max_audio_time\" : 10.0,\n",
    "    \"name\" : \"Tacotron\",\n",
    "    \"new_model\" : False\n",
    "    \n",
    "}\n"
   ]
  },
  {
   "cell_type": "markdown",
   "metadata": {
    "colab_type": "text",
    "id": "8TK5I5uPS_bS"
   },
   "source": [
    "# Dataset"
   ]
  },
  {
   "cell_type": "code",
   "execution_count": null,
   "metadata": {
    "colab": {
     "base_uri": "https://localhost:8080/",
     "height": 51
    },
    "colab_type": "code",
    "id": "e7l72lKyTB8Z",
    "outputId": "5f2690ec-0982-4f17-804f-4723e8e2b3cd"
   },
   "outputs": [],
   "source": [
    "import os\n",
    "import pandas as pd\n",
    "\n",
    "from text_utils import *\n",
    "\n",
    "folder = os.path.join(config['dataset_path'], config['training_data_dir'])\n",
    "if not os.path.exists(folder):\n",
    "    raise ValueError(\"The data folder does'nt exist, launch preprocessing to create data\")\n",
    "data_df = pd.read_csv(os.path.join(folder, \"train.csv\"))\n",
    "mel_dir = \"mels\"\n",
    "linear_dir = \"linear\"\n",
    "audio_dir = \"audio\"\n",
    "for idx, row in data_df.iterrows():\n",
    "    data_df.at[idx, 'mel_path'] = os.path.join(folder, mel_dir, row['mel_path'])\n",
    "    data_df.at[idx, 'linear_path'] = os.path.join(folder, linear_dir, row['linear_path'])\n",
    "    data_df.at[idx, 'processed_audio_path'] = os.path.join(folder, audio_dir, row['processed_audio_path'])\n",
    "        \n",
    "vocab = get_vocab()\n",
    "print(\"Dataset length : {}\".format(len(data_df)))\n",
    "print(\"Vocab size : {}\".format(len(vocab)))"
   ]
  },
  {
   "cell_type": "markdown",
   "metadata": {
    "colab_type": "text",
    "id": "HD7ZLtGEF7MT"
   },
   "source": [
    "# Model"
   ]
  },
  {
   "cell_type": "code",
   "execution_count": null,
   "metadata": {},
   "outputs": [],
   "source": [
    "fake_model = tacotron._build_trainable_model()\n",
    "fake_model.load_weights(\"modeles/Tacotron/best_weights.h5\")\n",
    "harmonie.encoder_model = fake_model.layers[1]\n",
    "tacotron.decoder_model = fake_model.layers[-1]\n",
    "tacotron.model = None"
   ]
  },
  {
   "cell_type": "code",
   "execution_count": null,
   "metadata": {
    "colab": {
     "base_uri": "https://localhost:8080/",
     "height": 708
    },
    "colab_type": "code",
    "id": "YqM3vXtbF9ei",
    "outputId": "0ae5c1e5-6c86-4b87-a344-cf2a22f04c9b"
   },
   "outputs": [],
   "source": [
    "import os\n",
    "import shutil\n",
    "from hparams import hparams\n",
    "from tacotron_2 import Tacotron\n",
    "\n",
    "if not os.path.exists('modeles'): os.mkdir('modeles')\n",
    "\n",
    "tacotron = Tacotron(hparams = hparams,\n",
    "                      vocab  = vocab,\n",
    "                      max_audio_time = config['max_audio_time'],\n",
    "                      max_len_phrase = None,\n",
    "                      nom   = config['name'],\n",
    "                      use_custom_linear = False,\n",
    "                      create_new_model = config['new_model']\n",
    "                     )"
   ]
  },
  {
   "cell_type": "code",
   "execution_count": null,
   "metadata": {
    "colab": {},
    "colab_type": "code",
    "id": "58B-PJk1c0xy"
   },
   "outputs": [],
   "source": [
    "harmonie.summary()"
   ]
  },
  {
   "cell_type": "markdown",
   "metadata": {
    "colab_type": "text",
    "id": "kUXnSrFKF9wy"
   },
   "source": [
    "# Training"
   ]
  },
  {
   "cell_type": "code",
   "execution_count": null,
   "metadata": {
    "colab": {
     "base_uri": "https://localhost:8080/",
     "height": 1000
    },
    "colab_type": "code",
    "id": "_EQJwF2ZGAwz",
    "outputId": "8e53d9ea-8c1f-44fd-d970-772dec4698fc"
   },
   "outputs": [],
   "source": [
    "import os\n",
    "import argparse\n",
    "import numpy as np\n",
    "import pandas as pd\n",
    "\n",
    "from hparams import hparams\n",
    "\n",
    "filtered_data_df = data_df[data_df['mel_frames'] < 900]\n",
    "\n",
    "history = tacotron.train(filtered_data_df,\n",
    "                         train_size  = config['train_size'],\n",
    "                         train_times = config['train_times'],\n",
    "                         valid_size  = config['valid_size'],\n",
    "                         valid_times = config['valid_times'],\n",
    "\n",
    "                         epochs      = config['epochs'],\n",
    "                         steps       = 5000,\n",
    "                         batch_size  = config['batch_size'],\n",
    "                         learning_rate   = config['learning_rate'],\n",
    "                         \n",
    "                         summary_step    = 100,\n",
    "                         prediction_step = 250,\n",
    "                         evaluation_step = 500,\n",
    "\n",
    "                         pitch_scale = config['pitch_scale'],\n",
    "                         no_pitch_scale  = config['no_pitch_scale'],\n",
    "\n",
    "                         optimizer   = config['optimizer'],\n",
    "                         loss        = config['loss'],\n",
    "                         layca       = config['layca'],\n",
    "\n",
    "                         save_config = True,\n",
    "                         shuffle     = config['shuffle'],\n",
    "                         debug       = config['debug'],\n",
    "\n",
    "                         with_early_stopping   = False,\n",
    "                         patience_stop  = 3,\n",
    "                         with_checkpoint   = True,\n",
    "                         with_tensorboard  = True,\n",
    "                         with_reduce_lr    = True,\n",
    "                         reduce_factor     = 0.5,\n",
    "                         patience_reduce   = 1,\n",
    "                         monitor   = 'val_loss',\n",
    "\n",
    "                         workers  = 4,\n",
    "                         max_queue_size   = 8,\n",
    "                           \n",
    "                         training_type = \"classic_training\"\n",
    "                        )"
   ]
  },
  {
   "cell_type": "code",
   "execution_count": null,
   "metadata": {},
   "outputs": [],
   "source": [
    "import matplotlib.pyplot as plt\n",
    "plt.figure(figsize=(10,10))\n",
    "plt.plot(history['loss'].get_data())"
   ]
  },
  {
   "cell_type": "code",
   "execution_count": null,
   "metadata": {},
   "outputs": [],
   "source": [
    "tacotron._build_trainable_model().save(\"full_model.h5\")"
   ]
  },
  {
   "cell_type": "markdown",
   "metadata": {
    "colab_type": "text",
    "id": "Qqo4Lhu9GBGy"
   },
   "source": [
    "# Prediction"
   ]
  },
  {
   "cell_type": "code",
   "execution_count": null,
   "metadata": {
    "colab": {},
    "colab_type": "code",
    "id": "EvltWK8MGD1j"
   },
   "outputs": [],
   "source": [
    "import numpy as np\n",
    "from plot_utils import *\n",
    "\n",
    "def _range(x):\n",
    "  return np.min(x), np.max(x)\n",
    "\n",
    "nb_audio = 1\n",
    "phrase = [data_df.at[idx, 'text'] for idx in range(nb_audio)]\n",
    "\n",
    "mel, linear, alignments = tacotron.predict(phrase, out_dir=\"outputs_test\", max_iter=200)[0]\n",
    "\n",
    "plot_alignment(alignments)\n",
    "plot_spectrogram(mel)\n",
    "plot_spectrogram(linear)\n",
    "\n",
    "print(\"range mel :\", _range(mel))\n",
    "print(\"range linear :\", _range(linear))\n",
    "print(\"range align :\", _range(alignments))\n",
    "\n",
    "lin_son = tacotron.wav_from_linear(linear)\n",
    "Audio(data=lin_son, rate=22050)"
   ]
  },
  {
   "cell_type": "code",
   "execution_count": null,
   "metadata": {
    "colab": {},
    "colab_type": "code",
    "id": "4Rxu9uxfAMDq"
   },
   "outputs": [],
   "source": [
    "nb_audio = 2\n",
    "offset = 100\n",
    "phrases = data_df[data_df['mel_frames'] < 500].sample(nb_audio) #.iloc[offset : offset + nb_audio]\n",
    "\n",
    "predictions = tacotron.predict_with_target(phrases, out_dir=\"outputs_test\")"
   ]
  },
  {
   "cell_type": "code",
   "execution_count": null,
   "metadata": {
    "colab": {},
    "colab_type": "code",
    "id": "DiZfky7sN8N6"
   },
   "outputs": [],
   "source": [
    "from IPython.display import Audio\n",
    "import audio\n",
    "from plot_utils import *\n",
    "\n",
    "num = 1\n",
    "mel = predictions[num][1]\n",
    "\n",
    "plot_spectrogram(mel)\n",
    "son = tacotron.wav_from_mel(mel)\n",
    "Audio(data=son, rate=22050)"
   ]
  },
  {
   "cell_type": "code",
   "execution_count": null,
   "metadata": {
    "colab": {},
    "colab_type": "code",
    "id": "tsQI8Xjzw5Lt"
   },
   "outputs": [],
   "source": [
    "from IPython.display import Audio\n",
    "import audio\n",
    "from plot_utils import *\n",
    "\n",
    "num = 1\n",
    "linear = predictions[num][2]\n",
    "\n",
    "plot_spectrogram(linear)\n",
    "son_linear = tacotron.wav_from_linear(linear)\n",
    "Audio(data=son_linear, rate=22050)"
   ]
  },
  {
   "cell_type": "code",
   "execution_count": null,
   "metadata": {
    "colab": {},
    "colab_type": "code",
    "id": "wqvnyGIvZqmH"
   },
   "outputs": [],
   "source": [
    "import matplotlib.pyplot as plt\n",
    "from IPython.display import Audio\n",
    "from son import *\n",
    "from hparams import hparams\n",
    "import audio\n",
    "\n",
    "son = np.load(data_df.at[100, 'linear_path'])\n",
    "print(son.shape)\n",
    "son = audio.inv_linear_spectrogram(np.transpose(son), hparams)\n",
    "print(son.shape)\n",
    "plt.figure(figsize=(15,4))\n",
    "offset = 0.5\n",
    "t = 0.005\n",
    "step = 1\n",
    "son = son / np.max(son)\n",
    "noise = np.random.random(son.shape) / 20.\n",
    "son = son + noise\n",
    "son = (son * 10000 / np.max(son)).astype(np.int16)\n",
    "plot_son = son[int(44100 * offset):int(44100 * offset + 44100 * t)]\n",
    "plt.plot(range(len(plot_son)), plot_son)\n",
    "plt.scatter(range(len(plot_son)), plot_son)\n",
    "\n",
    "Audio(data=son, rate=22050 // step)\n",
    "#audio.save_wav(son, \"test.wav\", 44100)"
   ]
  },
  {
   "cell_type": "code",
   "execution_count": null,
   "metadata": {
    "colab": {},
    "colab_type": "code",
    "id": "NHBD405nU-Ct"
   },
   "outputs": [],
   "source": [
    "from son import *\n",
    "from plot_utils import *\n",
    "\n",
    "original_sound = Son.gen_from_wav(phrases.reset_index().at[0, 'original_audio_path'])\n",
    "original_sound.rate = 22050\n",
    "original_sound.array = original_sound.array[::2]\n",
    "\n",
    "mel_sound = Son(son, 22050)\n",
    "\n",
    "fourrier_o = original_sound.temporal_fft(2048)\n",
    "fourrier_p = mel_sound.temporal_fft(2048)\n",
    "\n",
    "for i in range(1):\n",
    "    print(\"Original\")\n",
    "    plot(fourrier_o[i,:256], type_graph='bar', linewidth=5, titre=\"Original\")\n",
    "    print(\"Predicted\")\n",
    "    plot(fourrier_p[i,:256], type_graph='bar', linewidth=5, titre=\"Predicted\")\n",
    "\n",
    "modified_p = fourrier_p\n",
    "modified_p[:,512:] = 0.\n",
    "new_son = build_son_from_fft(modified_p)\n",
    "new_son.normalize(37000)\n",
    "Audio(data=new_son.array, rate=22050)"
   ]
  },
  {
   "cell_type": "code",
   "execution_count": null,
   "metadata": {
    "colab": {},
    "colab_type": "code",
    "id": "6N8RTYcnyqGy"
   },
   "outputs": [],
   "source": [
    "import tensorflow as tf\n",
    "import keras.backend as K\n",
    "from keras.models import *\n",
    "from keras.layers import *\n",
    "import numpy as np\n",
    "import pandas as pd\n",
    "import threading\n",
    "\n",
    "help(np.roll)"
   ]
  },
  {
   "cell_type": "code",
   "execution_count": null,
   "metadata": {},
   "outputs": [],
   "source": []
  }
 ],
 "metadata": {
  "accelerator": "GPU",
  "colab": {
   "collapsed_sections": [
    "kfr9v2Z9F4b6"
   ],
   "name": "Tacotron2_keras.ipynb",
   "provenance": [],
   "toc_visible": true,
   "version": "0.3.2"
  },
  "kernelspec": {
   "display_name": "Python 3",
   "language": "python",
   "name": "python3"
  },
  "language_info": {
   "codemirror_mode": {
    "name": "ipython",
    "version": 3
   },
   "file_extension": ".py",
   "mimetype": "text/x-python",
   "name": "python",
   "nbconvert_exporter": "python",
   "pygments_lexer": "ipython3",
   "version": "3.6.5"
  }
 },
 "nbformat": 4,
 "nbformat_minor": 2
}
